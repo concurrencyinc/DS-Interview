{
 "cells": [
  {
   "cell_type": "markdown",
   "metadata": {},
   "source": [
    "# Welcome to Concurreny's Data Science Technical Assessment!\n",
    "\n",
    "The purpose of this notebook is to assess specific data science skills that our \n",
    "Data Science team believes are important to the job. There are six problems total, \n",
    "with one being a SQL challenge, followed by 5 statistics and data science-related \n",
    "problems. **Please pick five to complete. You can opt to skip one.** \n",
    "\n",
    "While we're looking for answers that converge toward a known 'right' answer, we're \n",
    "just as interested in seeing how you get there. "
   ]
  },
  {
   "attachments": {},
   "cell_type": "markdown",
   "id": "2c32becc",
   "metadata": {},
   "source": [
    "## Problem #1 - SQL Exercise\n",
    "\n",
    "In the first problem, we are asking you to work with a publicly available dataset \n",
    "to set up a database, create a simple report, and answer a few questions. The \n",
    "utilities needed to set up the database are in the 'ds2_pgsql_clean' directory of \n",
    "the repo you cloned.\n",
    "\n",
    "* For the sake of remaining OS agnostic, the database is PostgreSQL. \n",
    "* We provide the scripts for you to set up the database in the 'ds2_pgsql_clean' directory of the repo you cloned.\n",
    "* See this [link](https://dataedo.com/samples/html/Dell_DVD_Store/doc/Dell_DVD_Store_12/modules/Dell_DVD_Store_database_diagram_107/module.html) for more information about the database. \n",
    "* If you would like to use any of the other database systems from the source link, feel free--the included setup utilities use the medium verion of the database.\n",
    "* Please provide the SQL code as well as the results for each question. Use window functions where applicable. If the report for part 1 is large, a subset of the report is acceptable. \n",
    "* It is possible that some of the information requested cannot be produced with the data available. In that case, please provide an explanation why it cannot be produced. \n",
    "\n",
    "Once you have set up the database, please do the following:"
   ]
  },
  {
   "cell_type": "markdown",
   "metadata": {},
   "source": [
    "### 1.\tCreate a report with the following columns:\n",
    "\n",
    "|Column |Description|\n",
    "|-----|:-----|\n",
    "|orderid||\t\n",
    "|orderdate||\n",
    "|customerid||\n",
    "|totalamount||\t\n",
    "|order quantity||\n",
    "|category name||\n",
    "|title||\n",
    "|city||\t\n",
    "|state||\n",
    "|country||\n",
    "|age||\t\n",
    "|income||\t\n",
    "|gender||\t\n",
    "|customer type| “new” if this is the first order of the customer. “existing” if the customer placed at least one order before the current order|\n",
    "|\\# of previous orders| Count of previous orders placed by the customer|\n",
    "|Total \\$ amount of previous orders | Total amount of previous orders placed by the customer|\n",
    "|Order fulfilled| “full”: if the full quantity ordered is available, “partial”: if quantity available is greater than 0 but less than the order quantity, “backorder”: if order cannot be fulfilled |\n",
    "|Expected order fulfillment date |If order cannot be fulfilled fully, the date the remaining quantity will be available|\n",
    "  "
   ]
  },
  {
   "cell_type": "code",
   "execution_count": null,
   "metadata": {},
   "outputs": [],
   "source": [
    "# Your answer"
   ]
  },
  {
   "cell_type": "markdown",
   "metadata": {},
   "source": [
    "Using the report created above, please create summary tables to answer the following questions:"
   ]
  },
  {
   "cell_type": "markdown",
   "metadata": {},
   "source": [
    "### 1a. What percent of sales comes from new vs. existing customers? "
   ]
  },
  {
   "cell_type": "code",
   "execution_count": null,
   "metadata": {},
   "outputs": [],
   "source": [
    "# Your answer"
   ]
  },
  {
   "cell_type": "markdown",
   "metadata": {},
   "source": [
    "### 1b. What percent of orders were fulfilled (partial, full, backorder)?\n",
    " "
   ]
  },
  {
   "cell_type": "code",
   "execution_count": null,
   "metadata": {},
   "outputs": [],
   "source": [
    "# Your answer"
   ]
  },
  {
   "cell_type": "markdown",
   "metadata": {},
   "source": [
    "### 1c. What is the distribution of sales by category? \n"
   ]
  },
  {
   "cell_type": "code",
   "execution_count": null,
   "metadata": {},
   "outputs": [],
   "source": [
    "# Your answer"
   ]
  },
  {
   "cell_type": "markdown",
   "metadata": {},
   "source": [
    "### 1d. Display the current and cumulative monthly revenue."
   ]
  },
  {
   "cell_type": "code",
   "execution_count": null,
   "metadata": {},
   "outputs": [],
   "source": [
    "# Your answer"
   ]
  },
  {
   "cell_type": "markdown",
   "metadata": {},
   "source": [
    "### 1e. What is the distribution of sales by customer age buckets? "
   ]
  },
  {
   "cell_type": "code",
   "execution_count": null,
   "metadata": {},
   "outputs": [],
   "source": [
    "# Your answer"
   ]
  },
  {
   "cell_type": "markdown",
   "id": "06bda4dd",
   "metadata": {},
   "source": [
    "## Problem #2 - Simple Binary Classification\n",
    "\n",
    "Your goal is to implement a model to predict a discrete outcome. You will generate samples from 2D distributions which map to binary values {0, 1}. Then, you will use this sample to train your chosen model. \n",
    "\n",
    "Let: \n",
    "$$\\phi_{x, y} =  \n",
    "\\begin{cases} 1 & \\text{ when } x \\sim \\cal{N}(0, 1), y \\sim \\cal{N}(0, 3) \\\\ \n",
    "0 & \\text{ when } x \\sim \\cal{N}(1, 2), y \\sim \\cal{N}(2, 2) \n",
    "\\end{cases}$$\n",
    "\n",
    "Generate 80 samples where $\\phi$ = 1 and 20 samples where $\\phi$ = 0, and use these as your training set.\n",
    "\n",
    "When choosing your model, assume that you know nothing about the underlying distribution. Once fitted, explain your reasoning for choosing it, and characterize its accuracy using the appropriate metric(s). Lastly, please elaborate on the justification for and interpretation of your chosen metric(s)."
   ]
  },
  {
   "cell_type": "code",
   "execution_count": null,
   "id": "3b097ccc",
   "metadata": {},
   "outputs": [],
   "source": [
    "import pandas as pd \n",
    "import numpy as np\n",
    "\n",
    "d = {'a': np.concatenate((np.random.normal(0, 1, 80), np.random.normal(1, 2, 20))),\n",
    "     'b': np.concatenate((np.random.normal(0, 3, 80), np.random.normal(2, 2, 20))), \n",
    "     'c': np.concatenate((np.ones(80), np.zeros(20)))} \n",
    "\n",
    "df = pd.DataFrame(d) "
   ]
  },
  {
   "cell_type": "code",
   "execution_count": null,
   "metadata": {},
   "outputs": [],
   "source": [
    "# Your answer"
   ]
  },
  {
   "attachments": {},
   "cell_type": "markdown",
   "id": "621bf846",
   "metadata": {},
   "source": [
    "## Problem #3 - Metric of Interest\n",
    "\n",
    "Suppose you are working on an ML project that produces a lot of data in the course of running in production. The team created a pipeline that automatically runs daily to generate a metric of interest from all this data.  \n",
    "\n",
    "The following table displays the metric of interest from the past few days:\n",
    "\n",
    "|Date| N | Metric of Interest|\n",
    "|-----|:-----|:-----|\n",
    "| 4/21/23 |\t258 | 80.23 |\n",
    "|4/22/23| 368 | 78.53 |\n",
    "|4/23/23 | 227 | 81.5 |\t\n",
    "|4/26/23 | 274| 76.18|\n",
    "|4/27/23 | 318| 78.3|\n",
    "|4/28/23 | 359| 78.55 | \n",
    "|4/29/23 | 312| 79.32|\n",
    "|4/30/23 | 291| 83.51 |\t\t\n",
    "|5/1/23| 166 |72.89\t|\n",
    "|5/2/23 | 467 |71.73 |\t\n",
    "|5/3/23 | 287 |72.82 |\t\t\t\n",
    "|5/4/23| 320 |71.23 |\n",
    "\n",
    "where N is the number of transactions processed by the system on a given day. \n",
    "\n",
    "You pushed a change to the system at the end of 4/30. Based on the changes to the Metric of Interest in the following days, how likely is it that your change affected it? "
   ]
  },
  {
   "cell_type": "code",
   "execution_count": null,
   "metadata": {},
   "outputs": [],
   "source": [
    "# Your answer"
   ]
  },
  {
   "cell_type": "markdown",
   "id": "5ddcadbb",
   "metadata": {},
   "source": [
    "## Problem #4 - Finding the Signal in the Noise\n",
    "\n",
    "For the following problem, you'll use the file included file `wavelet.csv`. The data in this file represents a noisy signal measured over the course of a day. \n",
    "\n",
    "Suppose you know that within this noise there exists a signal represented by:\n",
    "\n",
    "$$w(t) = (\\sin(4t) + \\cos(t/3 + \\pi/6) - \\sin(10t + \\pi/3)) * \\exp(-t/2) $$\n",
    "\n",
    "Determine at what timestamp this signal is present."
   ]
  },
  {
   "cell_type": "code",
   "execution_count": 79,
   "id": "fa5d188e",
   "metadata": {},
   "outputs": [
    {
     "data": {
      "image/png": "[encoded data removed]",
      "text/plain": [
       "<Figure size 432x288 with 1 Axes>"
      ]
     },
     "metadata": {
      "needs_background": "light"
     },
     "output_type": "display_data"
    }
   ],
   "source": [
    "import matplotlib.pyplot as plt\n",
    "\n",
    "#wavelet\n",
    "x = np.linspace(0, 10, 400)\n",
    "\n",
    "signal = (np.sin(x*4) + np.cos(x/3 + np.pi/6) - np.sin(x * 10 + np.pi/3)) * np.exp(-x/2)\n",
    "noise = np.random.randn(400)\n",
    "\n",
    "\n",
    "plt.plot(x, signal + noise)\n",
    "plt.plot(x, signal)\n",
    "#plt.plot(d_x, d_signal)\n",
    "#plt.xlim(28800, 28810)\n",
    "plt.show()"
   ]
  },
  {
   "cell_type": "code",
   "execution_count": null,
   "metadata": {},
   "outputs": [],
   "source": [
    "# Your answer"
   ]
  },
  {
   "cell_type": "markdown",
   "id": "f923a991",
   "metadata": {},
   "source": [
    "## Problem #5 - Recommendations and More\n",
    "\n",
    "For the next excercise, please download the following dataset:\n",
    "\n",
    "https://www.kaggle.com/datasets/bahramjannesarr/goodreads-book-datasets-10m/\n",
    "\n",
    "\n",
    "Using this dataset, construct the following:\n",
    "1. A model which recommends books based on the following user-provided keywords \n",
    "and  approximate page count. \n",
    "    * *Key words:* fantasy, female protagonist, dragons, comedy\n",
    "    * *Page Count:* 500"
   ]
  },
  {
   "cell_type": "code",
   "execution_count": null,
   "metadata": {},
   "outputs": [],
   "source": [
    "# Your answer"
   ]
  },
  {
   "cell_type": "markdown",
   "metadata": {},
   "source": [
    "2. A conversational model which accepts user input and responds with book \n",
    "recommendations."
   ]
  },
  {
   "cell_type": "code",
   "execution_count": null,
   "metadata": {},
   "outputs": [],
   "source": [
    "# Your answer"
   ]
  },
  {
   "cell_type": "markdown",
   "metadata": {},
   "source": [
    "3. Qualitatively assess the efficacy of your model. Given more time/resources, how could your model be improved?"
   ]
  },
  {
   "cell_type": "code",
   "execution_count": null,
   "metadata": {},
   "outputs": [],
   "source": [
    "# Your answer"
   ]
  },
  {
   "cell_type": "markdown",
   "id": "6b4853f7",
   "metadata": {},
   "source": [
    "## Problem #6 - EDA\n",
    "\n",
    "Refer to the dataset from **Problem #5**. Do EDA to support the following tasks: "
   ]
  },
  {
   "cell_type": "markdown",
   "id": "edf572d8",
   "metadata": {},
   "source": [
    "1. Are there any identifiable trends? "
   ]
  },
  {
   "cell_type": "code",
   "execution_count": null,
   "metadata": {},
   "outputs": [],
   "source": [
    "# Your answer"
   ]
  },
  {
   "cell_type": "markdown",
   "metadata": {},
   "source": [
    "2. According to this data, what was the most popular genre/year? "
   ]
  },
  {
   "cell_type": "code",
   "execution_count": null,
   "metadata": {},
   "outputs": [],
   "source": [
    "# Your answer"
   ]
  },
  {
   "cell_type": "markdown",
   "metadata": {},
   "source": [
    "3. Predict the most popular genre in 2024. "
   ]
  },
  {
   "cell_type": "code",
   "execution_count": null,
   "metadata": {},
   "outputs": [],
   "source": [
    "# Your answer"
   ]
  }
 ],
 "metadata": {
  "kernelspec": {
   "display_name": "Python 3 (ipykernel)",
   "language": "python",
   "name": "python3"
  },
  "language_info": {
   "codemirror_mode": {
    "name": "ipython",
    "version": 3
   },
   "file_extension": ".py",
   "mimetype": "text/x-python",
   "name": "python",
   "nbconvert_exporter": "python",
   "pygments_lexer": "ipython3",
   "version": "3.9.12"
  }
 },
 "nbformat": 4,
 "nbformat_minor": 5
}
